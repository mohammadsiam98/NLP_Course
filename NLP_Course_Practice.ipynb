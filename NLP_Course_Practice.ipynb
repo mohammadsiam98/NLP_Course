{
  "nbformat": 4,
  "nbformat_minor": 0,
  "metadata": {
    "colab": {
      "name": "NLP_Course_Practice",
      "provenance": [],
      "collapsed_sections": [],
      "authorship_tag": "ABX9TyNlQGC7ASWpje4tltIAkA53",
      "include_colab_link": true
    },
    "kernelspec": {
      "name": "python3",
      "display_name": "Python 3"
    },
    "language_info": {
      "name": "python"
    }
  },
  "cells": [
    {
      "cell_type": "markdown",
      "metadata": {
        "id": "view-in-github",
        "colab_type": "text"
      },
      "source": [
        "<a href=\"https://colab.research.google.com/github/mohammadsiam98/NLP_Course/blob/main/NLP_Course_Practice.ipynb\" target=\"_parent\"><img src=\"https://colab.research.google.com/assets/colab-badge.svg\" alt=\"Open In Colab\"/></a>"
      ]
    },
    {
      "cell_type": "code",
      "metadata": {
        "id": "Dxlq11AIOxcm"
      },
      "source": [
        "import tensorflow as tf"
      ],
      "execution_count": 2,
      "outputs": []
    },
    {
      "cell_type": "code",
      "metadata": {
        "id": "PsTlm7OwO9IN"
      },
      "source": [
        "from tensorflow import keras"
      ],
      "execution_count": 3,
      "outputs": []
    },
    {
      "cell_type": "code",
      "metadata": {
        "id": "b72lV2FsPFf3"
      },
      "source": [
        "from tensorflow.keras.preprocessing.text import Tokenizer\n",
        "from tensorflow.keras.preprocessing.sequence import pad_sequences"
      ],
      "execution_count": 158,
      "outputs": []
    },
    {
      "cell_type": "code",
      "metadata": {
        "id": "tgUD__xFPLq6"
      },
      "source": [
        "sentences =[\n",
        "            'I really love my dog',\n",
        "            'I really love my cat',\n",
        "            'I really love Ahnaf vaia',\n",
        "            'I really hate you',\n",
        "            'দেশে করোনা রোগী বেড়ে যাওয়ায় হাসপাতালগুলোতে আইসিইউ ও হাই ফ্লো নাজাল ক্যানুলা সংকটের বিষয়টি নতুন করে সামনে এসেছে। গুরুতর অসুস্থ রোগীদের উচ্চমাত্রায় অক্সিজেন সরবরাহের জন্য আইসিইউ বা হাই ফ্লো নাজাল ক্যানুলার দরকার হয়। এই সংকটের মধ্যে কিছুটা স্বস্তির খবর হয়ে এসেছে বাংলাদেশ প্রকৌশল বিশ্ববিদ্যালয়ের (বুয়েট) একদল শিক্ষক-শিক্ষার্থীর উদ্ভাবিত ‘অক্সিজেট’ নামের একটি যন্ত্র।'\n",
        "]"
      ],
      "execution_count": 112,
      "outputs": []
    },
    {
      "cell_type": "code",
      "metadata": {
        "id": "9cz2ney_gK84"
      },
      "source": [
        "anotherExample=[\n",
        "                'I really love my dog',\n",
        "                'I really love my cat',\n",
        "                'Do you think my dog is amazing?'\n",
        "]"
      ],
      "execution_count": 219,
      "outputs": []
    },
    {
      "cell_type": "code",
      "metadata": {
        "id": "npVldi4MPT09"
      },
      "source": [
        "test_sq = tokenizer.texts_to_sequences(anotherExample)"
      ],
      "execution_count": 221,
      "outputs": []
    },
    {
      "cell_type": "code",
      "metadata": {
        "colab": {
          "base_uri": "https://localhost:8080/"
        },
        "id": "wPC6lYLDVAN6",
        "outputId": "91a4517d-a618-43e5-c605-ed8fefb05a2c"
      },
      "source": [
        "print(anotherExample)"
      ],
      "execution_count": 222,
      "outputs": [
        {
          "output_type": "stream",
          "text": [
            "['I really love my dog', 'I really love my cat', 'Do you think my dog is amazing?']\n"
          ],
          "name": "stdout"
        }
      ]
    },
    {
      "cell_type": "code",
      "metadata": {
        "id": "CLFQLejzVLmN"
      },
      "source": [
        "tokenizer = Tokenizer(num_words = 100, oov_token=\"<OOV>\")"
      ],
      "execution_count": 223,
      "outputs": []
    },
    {
      "cell_type": "code",
      "metadata": {
        "id": "-ArleAlrVM_P"
      },
      "source": [
        "tokenizer.fit_on_texts(anotherExample)"
      ],
      "execution_count": 224,
      "outputs": []
    },
    {
      "cell_type": "code",
      "metadata": {
        "id": "5McdY2NcVQjh"
      },
      "source": [
        "word_index = tokenizer.word_index"
      ],
      "execution_count": 225,
      "outputs": []
    },
    {
      "cell_type": "code",
      "metadata": {
        "colab": {
          "base_uri": "https://localhost:8080/"
        },
        "id": "gPrkMFY8VTvS",
        "outputId": "9cc3eb31-402c-425a-98d2-b05b48635464"
      },
      "source": [
        "print(word_index)"
      ],
      "execution_count": 226,
      "outputs": [
        {
          "output_type": "stream",
          "text": [
            "{'<OOV>': 1, 'my': 2, 'i': 3, 'really': 4, 'love': 5, 'dog': 6, 'cat': 7, 'do': 8, 'you': 9, 'think': 10, 'is': 11, 'amazing': 12}\n"
          ],
          "name": "stdout"
        }
      ]
    },
    {
      "cell_type": "code",
      "metadata": {
        "id": "5a-0oCeYVwHh"
      },
      "source": [
        "test_seq = tokenizer.texts_to_sequences(sentences)"
      ],
      "execution_count": 227,
      "outputs": []
    },
    {
      "cell_type": "code",
      "metadata": {
        "id": "8ZavhMR0ijt7"
      },
      "source": [
        "padded= pad_sequences(test_seq)"
      ],
      "execution_count": 228,
      "outputs": []
    },
    {
      "cell_type": "code",
      "metadata": {
        "id": "5MGpvxTij4lB"
      },
      "source": [
        "paddedAnother = pad_sequences(test_seq,padding='post',maxlen=10)"
      ],
      "execution_count": 235,
      "outputs": []
    },
    {
      "cell_type": "code",
      "metadata": {
        "colab": {
          "base_uri": "https://localhost:8080/"
        },
        "id": "e-F8l1s0kZpu",
        "outputId": "52978f2b-2ed8-4e9f-b621-d001b3f8ae6d"
      },
      "source": [
        "print(test_seq)"
      ],
      "execution_count": 236,
      "outputs": [
        {
          "output_type": "stream",
          "text": [
            "[[3, 4, 5, 2, 6], [3, 4, 5, 2, 7], [3, 4, 5, 1, 1], [3, 4, 1, 9], [1, 1, 1, 1, 1, 1, 1, 1, 1, 1, 1, 1, 1, 1, 1, 1, 1, 1, 1, 1, 1, 1, 1, 1, 1, 1, 1, 1, 1, 1, 1, 1, 1, 1, 1, 1, 1, 1, 1, 1, 1, 1, 1, 1, 1, 1, 1, 1, 1, 1, 1, 1, 1]]\n"
          ],
          "name": "stdout"
        }
      ]
    },
    {
      "cell_type": "code",
      "metadata": {
        "colab": {
          "base_uri": "https://localhost:8080/"
        },
        "id": "8BTWc4xfkXZe",
        "outputId": "7dfe485a-9848-49af-cfb4-3fcb454ef5bd"
      },
      "source": [
        "print(padded)"
      ],
      "execution_count": 237,
      "outputs": [
        {
          "output_type": "stream",
          "text": [
            "[[0 0 0 0 0 0 0 0 0 0 0 0 0 0 0 0 0 0 0 0 0 0 0 0 0 0 0 0 0 0 0 0 0 0 0 0\n",
            "  0 0 0 0 0 0 0 0 0 0 0 0 3 4 5 2 6]\n",
            " [0 0 0 0 0 0 0 0 0 0 0 0 0 0 0 0 0 0 0 0 0 0 0 0 0 0 0 0 0 0 0 0 0 0 0 0\n",
            "  0 0 0 0 0 0 0 0 0 0 0 0 3 4 5 2 7]\n",
            " [0 0 0 0 0 0 0 0 0 0 0 0 0 0 0 0 0 0 0 0 0 0 0 0 0 0 0 0 0 0 0 0 0 0 0 0\n",
            "  0 0 0 0 0 0 0 0 0 0 0 0 3 4 5 1 1]\n",
            " [0 0 0 0 0 0 0 0 0 0 0 0 0 0 0 0 0 0 0 0 0 0 0 0 0 0 0 0 0 0 0 0 0 0 0 0\n",
            "  0 0 0 0 0 0 0 0 0 0 0 0 0 3 4 1 9]\n",
            " [1 1 1 1 1 1 1 1 1 1 1 1 1 1 1 1 1 1 1 1 1 1 1 1 1 1 1 1 1 1 1 1 1 1 1 1\n",
            "  1 1 1 1 1 1 1 1 1 1 1 1 1 1 1 1 1]]\n"
          ],
          "name": "stdout"
        }
      ]
    },
    {
      "cell_type": "code",
      "metadata": {
        "colab": {
          "base_uri": "https://localhost:8080/"
        },
        "id": "U05yCCx7V27R",
        "outputId": "b268be7f-4034-47c1-8c21-d7dc883cfc2e"
      },
      "source": [
        "print(paddedAnother)"
      ],
      "execution_count": 238,
      "outputs": [
        {
          "output_type": "stream",
          "text": [
            "[[3 4 5 2 6 0 0 0 0 0]\n",
            " [3 4 5 2 7 0 0 0 0 0]\n",
            " [3 4 5 1 1 0 0 0 0 0]\n",
            " [3 4 1 9 0 0 0 0 0 0]\n",
            " [1 1 1 1 1 1 1 1 1 1]]\n"
          ],
          "name": "stdout"
        }
      ]
    },
    {
      "cell_type": "code",
      "metadata": {
        "colab": {
          "base_uri": "https://localhost:8080/"
        },
        "id": "9dbtGIoyjNfL",
        "outputId": "d504a6f5-a6c8-4f0e-f570-21901d8fe7d6"
      },
      "source": [
        "print(word_index)"
      ],
      "execution_count": 239,
      "outputs": [
        {
          "output_type": "stream",
          "text": [
            "{'<OOV>': 1, 'my': 2, 'i': 3, 'really': 4, 'love': 5, 'dog': 6, 'cat': 7, 'do': 8, 'you': 9, 'think': 10, 'is': 11, 'amazing': 12}\n"
          ],
          "name": "stdout"
        }
      ]
    },
    {
      "cell_type": "code",
      "metadata": {
        "colab": {
          "base_uri": "https://localhost:8080/"
        },
        "id": "xicOCZipjSqN",
        "outputId": "d1109469-a187-4a12-a719-01463d9fd544"
      },
      "source": [
        "print(test_sq)"
      ],
      "execution_count": 198,
      "outputs": [
        {
          "output_type": "stream",
          "text": [
            "[[2, 3, 4, 5, 6], [2, 3, 4, 5, 7], [1, 1, 1, 5, 6, 1, 1]]\n"
          ],
          "name": "stdout"
        }
      ]
    }
  ]
}